{
 "cells": [
  {
   "cell_type": "markdown",
   "metadata": {},
   "source": [
    "## DIAGNOSIS OF BREAST CANCER  USING A KNN CLASSIFICATION\n",
    "\n",
    "DATASET SOURCE: \"UCI MACHINE LEARNING REPOSITRY\" "
   ]
  },
  {
   "cell_type": "markdown",
   "metadata": {},
   "source": [
    "### IMPORTING THE LIBRARIES "
   ]
  },
  {
   "cell_type": "code",
   "execution_count": 170,
   "metadata": {},
   "outputs": [],
   "source": [
    "import pandas as pd \n",
    "import numpy as np\n",
    "import matplotlib.pyplot as plt"
   ]
  },
  {
   "cell_type": "code",
   "execution_count": 171,
   "metadata": {},
   "outputs": [],
   "source": [
    "dataset=pd.read_csv(\"breast-cancer-wisconsin.csv\")"
   ]
  },
  {
   "cell_type": "code",
   "execution_count": 172,
   "metadata": {
    "scrolled": true
   },
   "outputs": [
    {
     "data": {
      "text/html": [
       "<div>\n",
       "<style scoped>\n",
       "    .dataframe tbody tr th:only-of-type {\n",
       "        vertical-align: middle;\n",
       "    }\n",
       "\n",
       "    .dataframe tbody tr th {\n",
       "        vertical-align: top;\n",
       "    }\n",
       "\n",
       "    .dataframe thead th {\n",
       "        text-align: right;\n",
       "    }\n",
       "</style>\n",
       "<table border=\"1\" class=\"dataframe\">\n",
       "  <thead>\n",
       "    <tr style=\"text-align: right;\">\n",
       "      <th></th>\n",
       "      <th>id</th>\n",
       "      <th>diagnosis</th>\n",
       "      <th>radius_mean</th>\n",
       "      <th>texture_mean</th>\n",
       "      <th>perimeter_mean</th>\n",
       "      <th>area_mean</th>\n",
       "      <th>smoothness_mean</th>\n",
       "      <th>compactness_mean</th>\n",
       "      <th>concavity_mean</th>\n",
       "      <th>concave points_mean</th>\n",
       "      <th>...</th>\n",
       "      <th>radius_worst</th>\n",
       "      <th>texture_worst</th>\n",
       "      <th>perimeter_worst</th>\n",
       "      <th>area_worst</th>\n",
       "      <th>smoothness_worst</th>\n",
       "      <th>compactness_worst</th>\n",
       "      <th>concavity_worst</th>\n",
       "      <th>concave points_worst</th>\n",
       "      <th>symmetry_worst</th>\n",
       "      <th>fractal_dimension_worst</th>\n",
       "    </tr>\n",
       "  </thead>\n",
       "  <tbody>\n",
       "    <tr>\n",
       "      <th>133</th>\n",
       "      <td>867387</td>\n",
       "      <td>B</td>\n",
       "      <td>15.710</td>\n",
       "      <td>13.93</td>\n",
       "      <td>102.00</td>\n",
       "      <td>761.7</td>\n",
       "      <td>0.09462</td>\n",
       "      <td>0.09462</td>\n",
       "      <td>0.071350</td>\n",
       "      <td>0.059330</td>\n",
       "      <td>...</td>\n",
       "      <td>17.50</td>\n",
       "      <td>19.25</td>\n",
       "      <td>114.30</td>\n",
       "      <td>922.8</td>\n",
       "      <td>0.1223</td>\n",
       "      <td>0.19490</td>\n",
       "      <td>0.17090</td>\n",
       "      <td>0.13740</td>\n",
       "      <td>0.2723</td>\n",
       "      <td>0.07071</td>\n",
       "    </tr>\n",
       "    <tr>\n",
       "      <th>342</th>\n",
       "      <td>89827</td>\n",
       "      <td>B</td>\n",
       "      <td>11.060</td>\n",
       "      <td>14.96</td>\n",
       "      <td>71.49</td>\n",
       "      <td>373.9</td>\n",
       "      <td>0.10330</td>\n",
       "      <td>0.09097</td>\n",
       "      <td>0.053970</td>\n",
       "      <td>0.033410</td>\n",
       "      <td>...</td>\n",
       "      <td>11.92</td>\n",
       "      <td>19.90</td>\n",
       "      <td>79.76</td>\n",
       "      <td>440.0</td>\n",
       "      <td>0.1418</td>\n",
       "      <td>0.22100</td>\n",
       "      <td>0.22990</td>\n",
       "      <td>0.10750</td>\n",
       "      <td>0.3301</td>\n",
       "      <td>0.09080</td>\n",
       "    </tr>\n",
       "    <tr>\n",
       "      <th>247</th>\n",
       "      <td>884626</td>\n",
       "      <td>B</td>\n",
       "      <td>12.890</td>\n",
       "      <td>14.11</td>\n",
       "      <td>84.95</td>\n",
       "      <td>512.2</td>\n",
       "      <td>0.08760</td>\n",
       "      <td>0.13460</td>\n",
       "      <td>0.137400</td>\n",
       "      <td>0.039800</td>\n",
       "      <td>...</td>\n",
       "      <td>14.39</td>\n",
       "      <td>17.70</td>\n",
       "      <td>105.00</td>\n",
       "      <td>639.1</td>\n",
       "      <td>0.1254</td>\n",
       "      <td>0.58490</td>\n",
       "      <td>0.77270</td>\n",
       "      <td>0.15610</td>\n",
       "      <td>0.2639</td>\n",
       "      <td>0.11780</td>\n",
       "    </tr>\n",
       "    <tr>\n",
       "      <th>12</th>\n",
       "      <td>846226</td>\n",
       "      <td>M</td>\n",
       "      <td>19.170</td>\n",
       "      <td>24.80</td>\n",
       "      <td>132.40</td>\n",
       "      <td>1123.0</td>\n",
       "      <td>0.09740</td>\n",
       "      <td>0.24580</td>\n",
       "      <td>0.206500</td>\n",
       "      <td>0.111800</td>\n",
       "      <td>...</td>\n",
       "      <td>20.96</td>\n",
       "      <td>29.94</td>\n",
       "      <td>151.70</td>\n",
       "      <td>1332.0</td>\n",
       "      <td>0.1037</td>\n",
       "      <td>0.39030</td>\n",
       "      <td>0.36390</td>\n",
       "      <td>0.17670</td>\n",
       "      <td>0.3176</td>\n",
       "      <td>0.10230</td>\n",
       "    </tr>\n",
       "    <tr>\n",
       "      <th>97</th>\n",
       "      <td>862261</td>\n",
       "      <td>B</td>\n",
       "      <td>9.787</td>\n",
       "      <td>19.94</td>\n",
       "      <td>62.11</td>\n",
       "      <td>294.5</td>\n",
       "      <td>0.10240</td>\n",
       "      <td>0.05301</td>\n",
       "      <td>0.006829</td>\n",
       "      <td>0.007937</td>\n",
       "      <td>...</td>\n",
       "      <td>10.92</td>\n",
       "      <td>26.29</td>\n",
       "      <td>68.81</td>\n",
       "      <td>366.1</td>\n",
       "      <td>0.1316</td>\n",
       "      <td>0.09473</td>\n",
       "      <td>0.02049</td>\n",
       "      <td>0.02381</td>\n",
       "      <td>0.1934</td>\n",
       "      <td>0.08988</td>\n",
       "    </tr>\n",
       "    <tr>\n",
       "      <th>207</th>\n",
       "      <td>879830</td>\n",
       "      <td>M</td>\n",
       "      <td>17.010</td>\n",
       "      <td>20.26</td>\n",
       "      <td>109.70</td>\n",
       "      <td>904.3</td>\n",
       "      <td>0.08772</td>\n",
       "      <td>0.07304</td>\n",
       "      <td>0.069500</td>\n",
       "      <td>0.053900</td>\n",
       "      <td>...</td>\n",
       "      <td>19.80</td>\n",
       "      <td>25.05</td>\n",
       "      <td>130.00</td>\n",
       "      <td>1210.0</td>\n",
       "      <td>0.1111</td>\n",
       "      <td>0.14860</td>\n",
       "      <td>0.19320</td>\n",
       "      <td>0.10960</td>\n",
       "      <td>0.3275</td>\n",
       "      <td>0.06469</td>\n",
       "    </tr>\n",
       "    <tr>\n",
       "      <th>176</th>\n",
       "      <td>872608</td>\n",
       "      <td>B</td>\n",
       "      <td>9.904</td>\n",
       "      <td>18.06</td>\n",
       "      <td>64.60</td>\n",
       "      <td>302.4</td>\n",
       "      <td>0.09699</td>\n",
       "      <td>0.12940</td>\n",
       "      <td>0.130700</td>\n",
       "      <td>0.037160</td>\n",
       "      <td>...</td>\n",
       "      <td>11.26</td>\n",
       "      <td>24.39</td>\n",
       "      <td>73.07</td>\n",
       "      <td>390.2</td>\n",
       "      <td>0.1301</td>\n",
       "      <td>0.29500</td>\n",
       "      <td>0.34860</td>\n",
       "      <td>0.09910</td>\n",
       "      <td>0.2614</td>\n",
       "      <td>0.11620</td>\n",
       "    </tr>\n",
       "    <tr>\n",
       "      <th>234</th>\n",
       "      <td>882488</td>\n",
       "      <td>B</td>\n",
       "      <td>9.567</td>\n",
       "      <td>15.91</td>\n",
       "      <td>60.21</td>\n",
       "      <td>279.6</td>\n",
       "      <td>0.08464</td>\n",
       "      <td>0.04087</td>\n",
       "      <td>0.016520</td>\n",
       "      <td>0.016670</td>\n",
       "      <td>...</td>\n",
       "      <td>10.51</td>\n",
       "      <td>19.16</td>\n",
       "      <td>65.74</td>\n",
       "      <td>335.9</td>\n",
       "      <td>0.1504</td>\n",
       "      <td>0.09515</td>\n",
       "      <td>0.07161</td>\n",
       "      <td>0.07222</td>\n",
       "      <td>0.2757</td>\n",
       "      <td>0.08178</td>\n",
       "    </tr>\n",
       "    <tr>\n",
       "      <th>23</th>\n",
       "      <td>851509</td>\n",
       "      <td>M</td>\n",
       "      <td>21.160</td>\n",
       "      <td>23.04</td>\n",
       "      <td>137.20</td>\n",
       "      <td>1404.0</td>\n",
       "      <td>0.09428</td>\n",
       "      <td>0.10220</td>\n",
       "      <td>0.109700</td>\n",
       "      <td>0.086320</td>\n",
       "      <td>...</td>\n",
       "      <td>29.17</td>\n",
       "      <td>35.59</td>\n",
       "      <td>188.00</td>\n",
       "      <td>2615.0</td>\n",
       "      <td>0.1401</td>\n",
       "      <td>0.26000</td>\n",
       "      <td>0.31550</td>\n",
       "      <td>0.20090</td>\n",
       "      <td>0.2822</td>\n",
       "      <td>0.07526</td>\n",
       "    </tr>\n",
       "    <tr>\n",
       "      <th>256</th>\n",
       "      <td>88649001</td>\n",
       "      <td>M</td>\n",
       "      <td>19.550</td>\n",
       "      <td>28.77</td>\n",
       "      <td>133.60</td>\n",
       "      <td>1207.0</td>\n",
       "      <td>0.09260</td>\n",
       "      <td>0.20630</td>\n",
       "      <td>0.178400</td>\n",
       "      <td>0.114400</td>\n",
       "      <td>...</td>\n",
       "      <td>25.05</td>\n",
       "      <td>36.27</td>\n",
       "      <td>178.60</td>\n",
       "      <td>1926.0</td>\n",
       "      <td>0.1281</td>\n",
       "      <td>0.53290</td>\n",
       "      <td>0.42510</td>\n",
       "      <td>0.19410</td>\n",
       "      <td>0.2818</td>\n",
       "      <td>0.10050</td>\n",
       "    </tr>\n",
       "  </tbody>\n",
       "</table>\n",
       "<p>10 rows × 32 columns</p>\n",
       "</div>"
      ],
      "text/plain": [
       "           id diagnosis  radius_mean  texture_mean  perimeter_mean  area_mean  \\\n",
       "133    867387         B       15.710         13.93          102.00      761.7   \n",
       "342     89827         B       11.060         14.96           71.49      373.9   \n",
       "247    884626         B       12.890         14.11           84.95      512.2   \n",
       "12     846226         M       19.170         24.80          132.40     1123.0   \n",
       "97     862261         B        9.787         19.94           62.11      294.5   \n",
       "207    879830         M       17.010         20.26          109.70      904.3   \n",
       "176    872608         B        9.904         18.06           64.60      302.4   \n",
       "234    882488         B        9.567         15.91           60.21      279.6   \n",
       "23     851509         M       21.160         23.04          137.20     1404.0   \n",
       "256  88649001         M       19.550         28.77          133.60     1207.0   \n",
       "\n",
       "     smoothness_mean  compactness_mean  concavity_mean  concave points_mean  \\\n",
       "133          0.09462           0.09462        0.071350             0.059330   \n",
       "342          0.10330           0.09097        0.053970             0.033410   \n",
       "247          0.08760           0.13460        0.137400             0.039800   \n",
       "12           0.09740           0.24580        0.206500             0.111800   \n",
       "97           0.10240           0.05301        0.006829             0.007937   \n",
       "207          0.08772           0.07304        0.069500             0.053900   \n",
       "176          0.09699           0.12940        0.130700             0.037160   \n",
       "234          0.08464           0.04087        0.016520             0.016670   \n",
       "23           0.09428           0.10220        0.109700             0.086320   \n",
       "256          0.09260           0.20630        0.178400             0.114400   \n",
       "\n",
       "              ...             radius_worst  texture_worst  perimeter_worst  \\\n",
       "133           ...                    17.50          19.25           114.30   \n",
       "342           ...                    11.92          19.90            79.76   \n",
       "247           ...                    14.39          17.70           105.00   \n",
       "12            ...                    20.96          29.94           151.70   \n",
       "97            ...                    10.92          26.29            68.81   \n",
       "207           ...                    19.80          25.05           130.00   \n",
       "176           ...                    11.26          24.39            73.07   \n",
       "234           ...                    10.51          19.16            65.74   \n",
       "23            ...                    29.17          35.59           188.00   \n",
       "256           ...                    25.05          36.27           178.60   \n",
       "\n",
       "     area_worst  smoothness_worst  compactness_worst  concavity_worst  \\\n",
       "133       922.8            0.1223            0.19490          0.17090   \n",
       "342       440.0            0.1418            0.22100          0.22990   \n",
       "247       639.1            0.1254            0.58490          0.77270   \n",
       "12       1332.0            0.1037            0.39030          0.36390   \n",
       "97        366.1            0.1316            0.09473          0.02049   \n",
       "207      1210.0            0.1111            0.14860          0.19320   \n",
       "176       390.2            0.1301            0.29500          0.34860   \n",
       "234       335.9            0.1504            0.09515          0.07161   \n",
       "23       2615.0            0.1401            0.26000          0.31550   \n",
       "256      1926.0            0.1281            0.53290          0.42510   \n",
       "\n",
       "     concave points_worst  symmetry_worst  fractal_dimension_worst  \n",
       "133               0.13740          0.2723                  0.07071  \n",
       "342               0.10750          0.3301                  0.09080  \n",
       "247               0.15610          0.2639                  0.11780  \n",
       "12                0.17670          0.3176                  0.10230  \n",
       "97                0.02381          0.1934                  0.08988  \n",
       "207               0.10960          0.3275                  0.06469  \n",
       "176               0.09910          0.2614                  0.11620  \n",
       "234               0.07222          0.2757                  0.08178  \n",
       "23                0.20090          0.2822                  0.07526  \n",
       "256               0.19410          0.2818                  0.10050  \n",
       "\n",
       "[10 rows x 32 columns]"
      ]
     },
     "execution_count": 172,
     "metadata": {},
     "output_type": "execute_result"
    }
   ],
   "source": [
    "dataset.sample(10)"
   ]
  },
  {
   "cell_type": "markdown",
   "metadata": {},
   "source": [
    "###### Features are computed from a digitized image of a fine needle aspirate (FNA) of a breast mass. They describe characteristics of the cell nuclei present in the image\n",
    "\n",
    "##### This can be found on UCI Machine Learning Repository:\n",
    "   https://archive.ics.uci.edu/ml/datasets/Breast+Cancer+Wisconsin+%28Diagnostic%29\n",
    "\n",
    "Attribute Information:\n",
    "\n",
    "    1) ID number \n",
    "    2) Diagnosis (M = malignant, B = benign) \n",
    "    3-32)\n",
    "    Ten real-valued features are computed for each cell nucleus:\n",
    "    a) radius (mean of distances from center to points on the perimeter) \n",
    "    b) texture (standard deviation of gray-scale values) \n",
    "    c) perimeter\n",
    "    d) area \n",
    "    e) smoothness (local variation in radius lengths) \n",
    "    f) compactness (perimeter^2 / area - 1.0) \n",
    "    g) concavity (severity of concave portions of the contour) \n",
    "    h) concave points (number of concave portions of the contour) \n",
    "    i) symmetry \n",
    "    j) fractal dimension (\"coastline approximation\" - 1)\n",
    "##### The mean, standard error and \"worst\" or largest (mean of the three largest values) of these features were computed for each image, resulting in 30 features. For instance, field 3 is Mean Radius, field 13 is Radius SE, field 23 is Worst Radius.\n",
    "\n",
    "    All feature values are recoded with four significant digits.\n",
    "    Missing attribute values: none\n",
    "    Class distribution: 357 benign, 212 malignant\n"
   ]
  },
  {
   "cell_type": "code",
   "execution_count": 173,
   "metadata": {},
   "outputs": [
    {
     "data": {
      "text/plain": [
       "(569, 32)"
      ]
     },
     "execution_count": 173,
     "metadata": {},
     "output_type": "execute_result"
    }
   ],
   "source": [
    "dataset.shape"
   ]
  },
  {
   "cell_type": "code",
   "execution_count": 174,
   "metadata": {},
   "outputs": [
    {
     "data": {
      "text/plain": [
       "Index(['id', 'diagnosis', 'radius_mean', 'texture_mean', 'perimeter_mean',\n",
       "       'area_mean', 'smoothness_mean', 'compactness_mean', 'concavity_mean',\n",
       "       'concave points_mean', 'symmetry_mean', 'fractal_dimension_mean',\n",
       "       'radius_se', 'texture_se', 'perimeter_se', 'area_se', 'smoothness_se',\n",
       "       'compactness_se', 'concavity_se', 'concave points_se', 'symmetry_se',\n",
       "       'fractal_dimension_se', 'radius_worst', 'texture_worst',\n",
       "       'perimeter_worst', 'area_worst', 'smoothness_worst',\n",
       "       'compactness_worst', 'concavity_worst', 'concave points_worst',\n",
       "       'symmetry_worst', 'fractal_dimension_worst'],\n",
       "      dtype='object')"
      ]
     },
     "execution_count": 174,
     "metadata": {},
     "output_type": "execute_result"
    }
   ],
   "source": [
    "dataset.columns"
   ]
  },
  {
   "cell_type": "code",
   "execution_count": 175,
   "metadata": {},
   "outputs": [
    {
     "data": {
      "text/plain": [
       "id                         0\n",
       "diagnosis                  0\n",
       "radius_mean                0\n",
       "texture_mean               0\n",
       "perimeter_mean             0\n",
       "area_mean                  0\n",
       "smoothness_mean            0\n",
       "compactness_mean           0\n",
       "concavity_mean             0\n",
       "concave points_mean        0\n",
       "symmetry_mean              0\n",
       "fractal_dimension_mean     0\n",
       "radius_se                  0\n",
       "texture_se                 0\n",
       "perimeter_se               0\n",
       "area_se                    0\n",
       "smoothness_se              0\n",
       "compactness_se             0\n",
       "concavity_se               0\n",
       "concave points_se          0\n",
       "symmetry_se                0\n",
       "fractal_dimension_se       0\n",
       "radius_worst               0\n",
       "texture_worst              0\n",
       "perimeter_worst            0\n",
       "area_worst                 0\n",
       "smoothness_worst           0\n",
       "compactness_worst          0\n",
       "concavity_worst            0\n",
       "concave points_worst       0\n",
       "symmetry_worst             0\n",
       "fractal_dimension_worst    0\n",
       "dtype: int64"
      ]
     },
     "execution_count": 175,
     "metadata": {},
     "output_type": "execute_result"
    }
   ],
   "source": [
    "dataset.isna().sum()"
   ]
  },
  {
   "cell_type": "markdown",
   "metadata": {},
   "source": [
    "### 'diagonisis' IS THE DEPENDENT VARIABLE "
   ]
  },
  {
   "cell_type": "code",
   "execution_count": 176,
   "metadata": {},
   "outputs": [
    {
     "name": "stdout",
     "output_type": "stream",
     "text": [
      "['M' 'B']\n"
     ]
    }
   ],
   "source": [
    "print(dataset.diagnosis.unique())"
   ]
  },
  {
   "cell_type": "markdown",
   "metadata": {},
   "source": [
    "###  Column \"ID\" \n",
    "IT DOESN'T HELP THE MACHINE TO LEARN AS IT IS A UNIQUE FEATURE AND HAS NOTHING TO DO WITH THE \"Class\" of breast_cancer"
   ]
  },
  {
   "cell_type": "code",
   "execution_count": 177,
   "metadata": {},
   "outputs": [],
   "source": [
    "del dataset['id']"
   ]
  },
  {
   "cell_type": "markdown",
   "metadata": {},
   "source": [
    "### COLUMN \"id\" HAS BEEN REMOVED"
   ]
  },
  {
   "cell_type": "code",
   "execution_count": 178,
   "metadata": {},
   "outputs": [
    {
     "data": {
      "text/html": [
       "<div>\n",
       "<style scoped>\n",
       "    .dataframe tbody tr th:only-of-type {\n",
       "        vertical-align: middle;\n",
       "    }\n",
       "\n",
       "    .dataframe tbody tr th {\n",
       "        vertical-align: top;\n",
       "    }\n",
       "\n",
       "    .dataframe thead th {\n",
       "        text-align: right;\n",
       "    }\n",
       "</style>\n",
       "<table border=\"1\" class=\"dataframe\">\n",
       "  <thead>\n",
       "    <tr style=\"text-align: right;\">\n",
       "      <th></th>\n",
       "      <th>diagnosis</th>\n",
       "      <th>radius_mean</th>\n",
       "      <th>texture_mean</th>\n",
       "      <th>perimeter_mean</th>\n",
       "      <th>area_mean</th>\n",
       "      <th>smoothness_mean</th>\n",
       "      <th>compactness_mean</th>\n",
       "      <th>concavity_mean</th>\n",
       "      <th>concave points_mean</th>\n",
       "      <th>symmetry_mean</th>\n",
       "      <th>...</th>\n",
       "      <th>radius_worst</th>\n",
       "      <th>texture_worst</th>\n",
       "      <th>perimeter_worst</th>\n",
       "      <th>area_worst</th>\n",
       "      <th>smoothness_worst</th>\n",
       "      <th>compactness_worst</th>\n",
       "      <th>concavity_worst</th>\n",
       "      <th>concave points_worst</th>\n",
       "      <th>symmetry_worst</th>\n",
       "      <th>fractal_dimension_worst</th>\n",
       "    </tr>\n",
       "  </thead>\n",
       "  <tbody>\n",
       "    <tr>\n",
       "      <th>401</th>\n",
       "      <td>B</td>\n",
       "      <td>11.930</td>\n",
       "      <td>10.91</td>\n",
       "      <td>76.14</td>\n",
       "      <td>442.7</td>\n",
       "      <td>0.08872</td>\n",
       "      <td>0.05242</td>\n",
       "      <td>0.02606</td>\n",
       "      <td>0.01796</td>\n",
       "      <td>0.1601</td>\n",
       "      <td>...</td>\n",
       "      <td>13.80</td>\n",
       "      <td>20.14</td>\n",
       "      <td>87.64</td>\n",
       "      <td>589.5</td>\n",
       "      <td>0.1374</td>\n",
       "      <td>0.1575</td>\n",
       "      <td>0.15140</td>\n",
       "      <td>0.06876</td>\n",
       "      <td>0.2460</td>\n",
       "      <td>0.07262</td>\n",
       "    </tr>\n",
       "    <tr>\n",
       "      <th>496</th>\n",
       "      <td>B</td>\n",
       "      <td>12.650</td>\n",
       "      <td>18.17</td>\n",
       "      <td>82.69</td>\n",
       "      <td>485.6</td>\n",
       "      <td>0.10760</td>\n",
       "      <td>0.13340</td>\n",
       "      <td>0.08017</td>\n",
       "      <td>0.05074</td>\n",
       "      <td>0.1641</td>\n",
       "      <td>...</td>\n",
       "      <td>14.38</td>\n",
       "      <td>22.15</td>\n",
       "      <td>95.29</td>\n",
       "      <td>633.7</td>\n",
       "      <td>0.1533</td>\n",
       "      <td>0.3842</td>\n",
       "      <td>0.35820</td>\n",
       "      <td>0.14070</td>\n",
       "      <td>0.3230</td>\n",
       "      <td>0.10330</td>\n",
       "    </tr>\n",
       "    <tr>\n",
       "      <th>549</th>\n",
       "      <td>B</td>\n",
       "      <td>10.820</td>\n",
       "      <td>24.21</td>\n",
       "      <td>68.89</td>\n",
       "      <td>361.6</td>\n",
       "      <td>0.08192</td>\n",
       "      <td>0.06602</td>\n",
       "      <td>0.01548</td>\n",
       "      <td>0.00816</td>\n",
       "      <td>0.1976</td>\n",
       "      <td>...</td>\n",
       "      <td>13.03</td>\n",
       "      <td>31.45</td>\n",
       "      <td>83.90</td>\n",
       "      <td>505.6</td>\n",
       "      <td>0.1204</td>\n",
       "      <td>0.1633</td>\n",
       "      <td>0.06194</td>\n",
       "      <td>0.03264</td>\n",
       "      <td>0.3059</td>\n",
       "      <td>0.07626</td>\n",
       "    </tr>\n",
       "    <tr>\n",
       "      <th>225</th>\n",
       "      <td>B</td>\n",
       "      <td>14.340</td>\n",
       "      <td>13.47</td>\n",
       "      <td>92.51</td>\n",
       "      <td>641.2</td>\n",
       "      <td>0.09906</td>\n",
       "      <td>0.07624</td>\n",
       "      <td>0.05724</td>\n",
       "      <td>0.04603</td>\n",
       "      <td>0.2075</td>\n",
       "      <td>...</td>\n",
       "      <td>16.77</td>\n",
       "      <td>16.90</td>\n",
       "      <td>110.40</td>\n",
       "      <td>873.2</td>\n",
       "      <td>0.1297</td>\n",
       "      <td>0.1525</td>\n",
       "      <td>0.16320</td>\n",
       "      <td>0.10870</td>\n",
       "      <td>0.3062</td>\n",
       "      <td>0.06072</td>\n",
       "    </tr>\n",
       "    <tr>\n",
       "      <th>21</th>\n",
       "      <td>B</td>\n",
       "      <td>9.504</td>\n",
       "      <td>12.44</td>\n",
       "      <td>60.34</td>\n",
       "      <td>273.9</td>\n",
       "      <td>0.10240</td>\n",
       "      <td>0.06492</td>\n",
       "      <td>0.02956</td>\n",
       "      <td>0.02076</td>\n",
       "      <td>0.1815</td>\n",
       "      <td>...</td>\n",
       "      <td>10.23</td>\n",
       "      <td>15.66</td>\n",
       "      <td>65.13</td>\n",
       "      <td>314.9</td>\n",
       "      <td>0.1324</td>\n",
       "      <td>0.1148</td>\n",
       "      <td>0.08867</td>\n",
       "      <td>0.06227</td>\n",
       "      <td>0.2450</td>\n",
       "      <td>0.07773</td>\n",
       "    </tr>\n",
       "  </tbody>\n",
       "</table>\n",
       "<p>5 rows × 31 columns</p>\n",
       "</div>"
      ],
      "text/plain": [
       "    diagnosis  radius_mean  texture_mean  perimeter_mean  area_mean  \\\n",
       "401         B       11.930         10.91           76.14      442.7   \n",
       "496         B       12.650         18.17           82.69      485.6   \n",
       "549         B       10.820         24.21           68.89      361.6   \n",
       "225         B       14.340         13.47           92.51      641.2   \n",
       "21          B        9.504         12.44           60.34      273.9   \n",
       "\n",
       "     smoothness_mean  compactness_mean  concavity_mean  concave points_mean  \\\n",
       "401          0.08872           0.05242         0.02606              0.01796   \n",
       "496          0.10760           0.13340         0.08017              0.05074   \n",
       "549          0.08192           0.06602         0.01548              0.00816   \n",
       "225          0.09906           0.07624         0.05724              0.04603   \n",
       "21           0.10240           0.06492         0.02956              0.02076   \n",
       "\n",
       "     symmetry_mean           ...             radius_worst  texture_worst  \\\n",
       "401         0.1601           ...                    13.80          20.14   \n",
       "496         0.1641           ...                    14.38          22.15   \n",
       "549         0.1976           ...                    13.03          31.45   \n",
       "225         0.2075           ...                    16.77          16.90   \n",
       "21          0.1815           ...                    10.23          15.66   \n",
       "\n",
       "     perimeter_worst  area_worst  smoothness_worst  compactness_worst  \\\n",
       "401            87.64       589.5            0.1374             0.1575   \n",
       "496            95.29       633.7            0.1533             0.3842   \n",
       "549            83.90       505.6            0.1204             0.1633   \n",
       "225           110.40       873.2            0.1297             0.1525   \n",
       "21             65.13       314.9            0.1324             0.1148   \n",
       "\n",
       "     concavity_worst  concave points_worst  symmetry_worst  \\\n",
       "401          0.15140               0.06876          0.2460   \n",
       "496          0.35820               0.14070          0.3230   \n",
       "549          0.06194               0.03264          0.3059   \n",
       "225          0.16320               0.10870          0.3062   \n",
       "21           0.08867               0.06227          0.2450   \n",
       "\n",
       "     fractal_dimension_worst  \n",
       "401                  0.07262  \n",
       "496                  0.10330  \n",
       "549                  0.07626  \n",
       "225                  0.06072  \n",
       "21                   0.07773  \n",
       "\n",
       "[5 rows x 31 columns]"
      ]
     },
     "execution_count": 178,
     "metadata": {},
     "output_type": "execute_result"
    }
   ],
   "source": [
    "dataset.sample(5)\n"
   ]
  },
  {
   "cell_type": "markdown",
   "metadata": {},
   "source": [
    "##  Checking the datatypes of the attributes"
   ]
  },
  {
   "cell_type": "code",
   "execution_count": 179,
   "metadata": {},
   "outputs": [
    {
     "name": "stdout",
     "output_type": "stream",
     "text": [
      "diagnosis ----dtype ------- object\n",
      "radius_mean ----dtype ------- float64\n",
      "texture_mean ----dtype ------- float64\n",
      "perimeter_mean ----dtype ------- float64\n",
      "area_mean ----dtype ------- float64\n",
      "smoothness_mean ----dtype ------- float64\n",
      "compactness_mean ----dtype ------- float64\n",
      "concavity_mean ----dtype ------- float64\n",
      "concave points_mean ----dtype ------- float64\n",
      "symmetry_mean ----dtype ------- float64\n",
      "fractal_dimension_mean ----dtype ------- float64\n",
      "radius_se ----dtype ------- float64\n",
      "texture_se ----dtype ------- float64\n",
      "perimeter_se ----dtype ------- float64\n",
      "area_se ----dtype ------- float64\n",
      "smoothness_se ----dtype ------- float64\n",
      "compactness_se ----dtype ------- float64\n",
      "concavity_se ----dtype ------- float64\n",
      "concave points_se ----dtype ------- float64\n",
      "symmetry_se ----dtype ------- float64\n",
      "fractal_dimension_se ----dtype ------- float64\n",
      "radius_worst ----dtype ------- float64\n",
      "texture_worst ----dtype ------- float64\n",
      "perimeter_worst ----dtype ------- float64\n",
      "area_worst ----dtype ------- float64\n",
      "smoothness_worst ----dtype ------- float64\n",
      "compactness_worst ----dtype ------- float64\n",
      "concavity_worst ----dtype ------- float64\n",
      "concave points_worst ----dtype ------- float64\n",
      "symmetry_worst ----dtype ------- float64\n",
      "fractal_dimension_worst ----dtype ------- float64\n"
     ]
    }
   ],
   "source": [
    "for i in dataset.columns:\n",
    "    print(i,\"----dtype -------\",dataset[i].dtype)"
   ]
  },
  {
   "cell_type": "markdown",
   "metadata": {},
   "source": [
    "### SPLITTING INTO DEPENDENT AND INDEPENDENT VARIABLES"
   ]
  },
  {
   "cell_type": "code",
   "execution_count": 180,
   "metadata": {},
   "outputs": [],
   "source": [
    "X = dataset.iloc[:, 1:].values\n",
    "y = dataset.iloc[:, 0].values"
   ]
  },
  {
   "cell_type": "markdown",
   "metadata": {},
   "source": [
    "# Splitting the dataset into the Training set and Test set"
   ]
  },
  {
   "cell_type": "code",
   "execution_count": 181,
   "metadata": {},
   "outputs": [],
   "source": [
    "from sklearn.model_selection import train_test_split\n",
    "X_train, X_test, y_train, y_test = train_test_split(X, y, test_size = 0.4, random_state = 42)"
   ]
  },
  {
   "cell_type": "markdown",
   "metadata": {},
   "source": [
    "## MODEL CREATION AND TRAINING WITH TRAINING SET"
   ]
  },
  {
   "cell_type": "code",
   "execution_count": 182,
   "metadata": {},
   "outputs": [
    {
     "data": {
      "text/plain": [
       "KNeighborsClassifier(algorithm='auto', leaf_size=30, metric='minkowski',\n",
       "           metric_params=None, n_jobs=None, n_neighbors=9, p=2,\n",
       "           weights='uniform')"
      ]
     },
     "execution_count": 182,
     "metadata": {},
     "output_type": "execute_result"
    }
   ],
   "source": [
    "from sklearn.neighbors import KNeighborsClassifier\n",
    "cls=cls=KNeighborsClassifier(n_neighbors=9,weights='uniform',algorithm='auto')\n",
    "cls.fit(X_train, y_train)"
   ]
  },
  {
   "cell_type": "code",
   "execution_count": 183,
   "metadata": {},
   "outputs": [],
   "source": [
    "# Predicting the Test set results\n",
    "y_pred = cls.predict(X_test)"
   ]
  },
  {
   "cell_type": "markdown",
   "metadata": {},
   "source": [
    "## Confusion Matrix"
   ]
  },
  {
   "cell_type": "code",
   "execution_count": 184,
   "metadata": {},
   "outputs": [],
   "source": [
    "# Making the Confusion Matrix\n",
    "from sklearn.metrics import confusion_matrix\n",
    "cm = confusion_matrix(y_test, y_pred)"
   ]
  },
  {
   "cell_type": "code",
   "execution_count": 185,
   "metadata": {},
   "outputs": [
    {
     "name": "stdout",
     "output_type": "stream",
     "text": [
      "[[147   1]\n",
      " [  4  76]]\n"
     ]
    }
   ],
   "source": [
    "print(cm)"
   ]
  },
  {
   "cell_type": "code",
   "execution_count": 186,
   "metadata": {},
   "outputs": [],
   "source": [
    "## confusion matrix results\n",
    "#--[147+76]=[223]--correct diagonisis\n",
    "#--[1+4]=[5]-----incorrect diagonisis"
   ]
  },
  {
   "cell_type": "markdown",
   "metadata": {},
   "source": [
    "## ACCURACY"
   ]
  },
  {
   "cell_type": "code",
   "execution_count": 187,
   "metadata": {},
   "outputs": [
    {
     "name": "stdout",
     "output_type": "stream",
     "text": [
      "ACCURACY OF MODEL IS :  97.80701754385966 %\n"
     ]
    }
   ],
   "source": [
    "print(\"ACCURACY OF MODEL IS : \",cls.score(X_test,y_test)*100,\"%\")"
   ]
  },
  {
   "cell_type": "markdown",
   "metadata": {},
   "source": [
    "## WE HAVE CREATED A MODEL THAT CAN  DIAGONISE THE BREAST CANCER WITH AN ACUURACY OF 97.80 %"
   ]
  }
 ],
 "metadata": {
  "kernelspec": {
   "display_name": "Python 3",
   "language": "python",
   "name": "python3"
  },
  "language_info": {
   "codemirror_mode": {
    "name": "ipython",
    "version": 3
   },
   "file_extension": ".py",
   "mimetype": "text/x-python",
   "name": "python",
   "nbconvert_exporter": "python",
   "pygments_lexer": "ipython3",
   "version": "3.7.1"
  }
 },
 "nbformat": 4,
 "nbformat_minor": 2
}
