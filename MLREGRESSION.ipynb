{
 "cells": [
  {
   "cell_type": "markdown",
   "metadata": {},
   "source": [
    "# PREDICTING THE ESTIMATED RELATIVE PERFORMANCE OF A COMPUTER USING THE MULTIPLE LINEAR REGRESSION MACHINE MODEL\n",
    "\n",
    "DATASET SOURCE : \"UCI-MACHINE LEARNING REPOSITRY\""
   ]
  },
  {
   "cell_type": "markdown",
   "metadata": {},
   "source": [
    "## IMPORTING THE LIBRARIES "
   ]
  },
  {
   "cell_type": "code",
   "execution_count": 94,
   "metadata": {},
   "outputs": [],
   "source": [
    "import pandas as pd\n",
    "import matplotlib.pyplot as plt\n",
    "import numpy as np"
   ]
  },
  {
   "cell_type": "markdown",
   "metadata": {},
   "source": [
    "## IMPORTING THE DATASET"
   ]
  },
  {
   "cell_type": "code",
   "execution_count": 73,
   "metadata": {},
   "outputs": [
    {
     "data": {
      "text/html": [
       "<div>\n",
       "<style scoped>\n",
       "    .dataframe tbody tr th:only-of-type {\n",
       "        vertical-align: middle;\n",
       "    }\n",
       "\n",
       "    .dataframe tbody tr th {\n",
       "        vertical-align: top;\n",
       "    }\n",
       "\n",
       "    .dataframe thead th {\n",
       "        text-align: right;\n",
       "    }\n",
       "</style>\n",
       "<table border=\"1\" class=\"dataframe\">\n",
       "  <thead>\n",
       "    <tr style=\"text-align: right;\">\n",
       "      <th></th>\n",
       "      <th>VENDOR</th>\n",
       "      <th>MODEL_NAME</th>\n",
       "      <th>MYCT</th>\n",
       "      <th>MMIN</th>\n",
       "      <th>MMAX</th>\n",
       "      <th>CACH</th>\n",
       "      <th>CHMIN</th>\n",
       "      <th>CHMAX</th>\n",
       "      <th>PRP</th>\n",
       "      <th>ERP</th>\n",
       "    </tr>\n",
       "  </thead>\n",
       "  <tbody>\n",
       "    <tr>\n",
       "      <th>0</th>\n",
       "      <td>adviser</td>\n",
       "      <td>32/60</td>\n",
       "      <td>125</td>\n",
       "      <td>256</td>\n",
       "      <td>6000</td>\n",
       "      <td>256</td>\n",
       "      <td>16</td>\n",
       "      <td>128</td>\n",
       "      <td>198</td>\n",
       "      <td>199</td>\n",
       "    </tr>\n",
       "    <tr>\n",
       "      <th>1</th>\n",
       "      <td>amdahl</td>\n",
       "      <td>470v/7</td>\n",
       "      <td>29</td>\n",
       "      <td>8000</td>\n",
       "      <td>32000</td>\n",
       "      <td>32</td>\n",
       "      <td>8</td>\n",
       "      <td>32</td>\n",
       "      <td>269</td>\n",
       "      <td>253</td>\n",
       "    </tr>\n",
       "    <tr>\n",
       "      <th>2</th>\n",
       "      <td>amdahl</td>\n",
       "      <td>470v/7a</td>\n",
       "      <td>29</td>\n",
       "      <td>8000</td>\n",
       "      <td>32000</td>\n",
       "      <td>32</td>\n",
       "      <td>8</td>\n",
       "      <td>32</td>\n",
       "      <td>220</td>\n",
       "      <td>253</td>\n",
       "    </tr>\n",
       "    <tr>\n",
       "      <th>3</th>\n",
       "      <td>amdahl</td>\n",
       "      <td>470v/7b</td>\n",
       "      <td>29</td>\n",
       "      <td>8000</td>\n",
       "      <td>32000</td>\n",
       "      <td>32</td>\n",
       "      <td>8</td>\n",
       "      <td>32</td>\n",
       "      <td>172</td>\n",
       "      <td>253</td>\n",
       "    </tr>\n",
       "    <tr>\n",
       "      <th>4</th>\n",
       "      <td>amdahl</td>\n",
       "      <td>470v/7c</td>\n",
       "      <td>29</td>\n",
       "      <td>8000</td>\n",
       "      <td>16000</td>\n",
       "      <td>32</td>\n",
       "      <td>8</td>\n",
       "      <td>16</td>\n",
       "      <td>132</td>\n",
       "      <td>132</td>\n",
       "    </tr>\n",
       "    <tr>\n",
       "      <th>5</th>\n",
       "      <td>amdahl</td>\n",
       "      <td>470v/b</td>\n",
       "      <td>26</td>\n",
       "      <td>8000</td>\n",
       "      <td>32000</td>\n",
       "      <td>64</td>\n",
       "      <td>8</td>\n",
       "      <td>32</td>\n",
       "      <td>318</td>\n",
       "      <td>290</td>\n",
       "    </tr>\n",
       "    <tr>\n",
       "      <th>6</th>\n",
       "      <td>amdahl</td>\n",
       "      <td>580-5840</td>\n",
       "      <td>23</td>\n",
       "      <td>16000</td>\n",
       "      <td>32000</td>\n",
       "      <td>64</td>\n",
       "      <td>16</td>\n",
       "      <td>32</td>\n",
       "      <td>367</td>\n",
       "      <td>381</td>\n",
       "    </tr>\n",
       "    <tr>\n",
       "      <th>7</th>\n",
       "      <td>amdahl</td>\n",
       "      <td>580-5850</td>\n",
       "      <td>23</td>\n",
       "      <td>16000</td>\n",
       "      <td>32000</td>\n",
       "      <td>64</td>\n",
       "      <td>16</td>\n",
       "      <td>32</td>\n",
       "      <td>489</td>\n",
       "      <td>381</td>\n",
       "    </tr>\n",
       "    <tr>\n",
       "      <th>8</th>\n",
       "      <td>amdahl</td>\n",
       "      <td>580-5860</td>\n",
       "      <td>23</td>\n",
       "      <td>16000</td>\n",
       "      <td>64000</td>\n",
       "      <td>64</td>\n",
       "      <td>16</td>\n",
       "      <td>32</td>\n",
       "      <td>636</td>\n",
       "      <td>749</td>\n",
       "    </tr>\n",
       "    <tr>\n",
       "      <th>9</th>\n",
       "      <td>amdahl</td>\n",
       "      <td>580-5880</td>\n",
       "      <td>23</td>\n",
       "      <td>32000</td>\n",
       "      <td>64000</td>\n",
       "      <td>128</td>\n",
       "      <td>32</td>\n",
       "      <td>64</td>\n",
       "      <td>1144</td>\n",
       "      <td>1238</td>\n",
       "    </tr>\n",
       "  </tbody>\n",
       "</table>\n",
       "</div>"
      ],
      "text/plain": [
       "    VENDOR MODEL_NAME  MYCT   MMIN   MMAX  CACH  CHMIN  CHMAX   PRP   ERP\n",
       "0  adviser      32/60   125    256   6000   256     16    128   198   199\n",
       "1   amdahl     470v/7    29   8000  32000    32      8     32   269   253\n",
       "2   amdahl    470v/7a    29   8000  32000    32      8     32   220   253\n",
       "3   amdahl    470v/7b    29   8000  32000    32      8     32   172   253\n",
       "4   amdahl    470v/7c    29   8000  16000    32      8     16   132   132\n",
       "5   amdahl     470v/b    26   8000  32000    64      8     32   318   290\n",
       "6   amdahl   580-5840    23  16000  32000    64     16     32   367   381\n",
       "7   amdahl   580-5850    23  16000  32000    64     16     32   489   381\n",
       "8   amdahl   580-5860    23  16000  64000    64     16     32   636   749\n",
       "9   amdahl   580-5880    23  32000  64000   128     32     64  1144  1238"
      ]
     },
     "execution_count": 73,
     "metadata": {},
     "output_type": "execute_result"
    }
   ],
   "source": [
    "names = ['VENDOR','MODEL_NAME','MYCT', 'MMIN', 'MMAX', 'CACH', 'CHMIN', 'CHMAX', 'PRP', 'ERP' ];\n",
    "data = pd.read_csv('https://archive.ics.uci.edu/ml/machine-learning-databases/cpu-performance/machine.data',names=names)\n",
    "data.head(10)"
   ]
  },
  {
   "cell_type": "markdown",
   "metadata": {},
   "source": [
    " Attribute Information:\n",
    "   1. vendor name: 30 \n",
    "      (adviser, amdahl,apollo, basf, bti, burroughs, c.r.d, cambex, cdc, dec, \n",
    "       dg, formation, four-phase, gould, honeywell, hp, ibm, ipl, magnuson, \n",
    "       microdata, nas, ncr, nixdorf, perkin-elmer, prime, siemens, sperry, \n",
    "       sratus, wang)\n",
    "   2. Model Name: many unique symbols\n",
    "   3. MYCT: machine cycle time in nanoseconds (integer)\n",
    "   4. MMIN: minimum main memory in kilobytes (integer)\n",
    "   5. MMAX: maximum main memory in kilobytes (integer)\n",
    "   6. CACH: cache memory in kilobytes (integer)\n",
    "   7. CHMIN: minimum channels in units (integer)\n",
    "   8. CHMAX: maximum channels in units (integer)\n",
    "   9. PRP: published relative performance (integer)\n",
    "  10. ERP: estimated relative performance from the original article (integer)"
   ]
  },
  {
   "cell_type": "markdown",
   "metadata": {},
   "source": [
    "## SPLITTING THE DATSET TO DEPENDENT AND INDEPENDENT "
   ]
  },
  {
   "cell_type": "raw",
   "metadata": {},
   "source": [
    "X IS A GROUP OF MULTIPLE INDEPENDENT VARIABLE \n",
    "\n",
    "Y IS THE DEPENDENT VARIABLE"
   ]
  },
  {
   "cell_type": "markdown",
   "metadata": {},
   "source": [
    "## REMOVING THE UNWANTED COLUMNS WHICH HAVE NO SIGNIFICANCE \n",
    "## MODEL_NAME is UNIQUE for each computer hence it doesn't help the model in learning \n"
   ]
  },
  {
   "cell_type": "code",
   "execution_count": 74,
   "metadata": {},
   "outputs": [],
   "source": [
    "X = data.iloc[:,[0,2,3,4,5,6,7,8]].values\n",
    "y = data.iloc[:, 9].values\n",
    "\n",
    "#WE HAVE NEGLECTED THE INDEX 1 WHICH IS ASSOCIATED WITH THE MODEL NAME"
   ]
  },
  {
   "cell_type": "markdown",
   "metadata": {},
   "source": [
    "# CATEGORICAL VARIABLES HANDLING"
   ]
  },
  {
   "cell_type": "code",
   "execution_count": 75,
   "metadata": {},
   "outputs": [
    {
     "data": {
      "text/plain": [
       "array([['adviser', 125, 256, ..., 16, 128, 198],\n",
       "       ['amdahl', 29, 8000, ..., 8, 32, 269],\n",
       "       ['amdahl', 29, 8000, ..., 8, 32, 220],\n",
       "       ...,\n",
       "       ['sratus', 125, 2000, ..., 2, 14, 52],\n",
       "       ['wang', 480, 512, ..., 0, 0, 67],\n",
       "       ['wang', 480, 1000, ..., 0, 0, 45]], dtype=object)"
      ]
     },
     "execution_count": 75,
     "metadata": {},
     "output_type": "execute_result"
    }
   ],
   "source": [
    "X"
   ]
  },
  {
   "cell_type": "raw",
   "metadata": {},
   "source": [
    "WE OBSERVE THAT VENDOR NAME IS A CATEGORICAL VARIABLE"
   ]
  },
  {
   "cell_type": "code",
   "execution_count": 76,
   "metadata": {},
   "outputs": [
    {
     "data": {
      "text/plain": [
       "array(['adviser', 'amdahl', 'amdahl', 'amdahl', 'amdahl', 'amdahl',\n",
       "       'amdahl', 'amdahl', 'amdahl', 'amdahl', 'apollo', 'apollo', 'basf',\n",
       "       'basf', 'bti', 'bti', 'burroughs', 'burroughs', 'burroughs',\n",
       "       'burroughs', 'burroughs', 'burroughs', 'burroughs', 'burroughs',\n",
       "       'c.r.d', 'c.r.d', 'c.r.d', 'c.r.d', 'c.r.d', 'c.r.d', 'cdc', 'cdc',\n",
       "       'cdc', 'cdc', 'cdc', 'cdc', 'cdc', 'cdc', 'cdc', 'cambex',\n",
       "       'cambex', 'cambex', 'cambex', 'cambex', 'dec', 'dec', 'dec', 'dec',\n",
       "       'dec', 'dec', 'dg', 'dg', 'dg', 'dg', 'dg', 'dg', 'dg',\n",
       "       'formation', 'formation', 'formation', 'formation', 'formation',\n",
       "       'four-phase', 'gould', 'gould', 'gould', 'hp', 'hp', 'hp', 'hp',\n",
       "       'hp', 'hp', 'hp', 'harris', 'harris', 'harris', 'harris', 'harris',\n",
       "       'harris', 'harris', 'honeywell', 'honeywell', 'honeywell',\n",
       "       'honeywell', 'honeywell', 'honeywell', 'honeywell', 'honeywell',\n",
       "       'honeywell', 'honeywell', 'honeywell', 'honeywell', 'honeywell',\n",
       "       'ibm', 'ibm', 'ibm', 'ibm', 'ibm', 'ibm', 'ibm', 'ibm', 'ibm',\n",
       "       'ibm', 'ibm', 'ibm', 'ibm', 'ibm', 'ibm', 'ibm', 'ibm', 'ibm',\n",
       "       'ibm', 'ibm', 'ibm', 'ibm', 'ibm', 'ibm', 'ibm', 'ibm', 'ibm',\n",
       "       'ibm', 'ibm', 'ibm', 'ibm', 'ibm', 'ipl', 'ipl', 'ipl', 'ipl',\n",
       "       'ipl', 'ipl', 'magnuson', 'magnuson', 'magnuson', 'magnuson',\n",
       "       'magnuson', 'magnuson', 'microdata', 'nas', 'nas', 'nas', 'nas',\n",
       "       'nas', 'nas', 'nas', 'nas', 'nas', 'nas', 'nas', 'nas', 'nas',\n",
       "       'nas', 'nas', 'nas', 'nas', 'nas', 'nas', 'ncr', 'ncr', 'ncr',\n",
       "       'ncr', 'ncr', 'ncr', 'ncr', 'ncr', 'ncr', 'ncr', 'ncr', 'ncr',\n",
       "       'ncr', 'nixdorf', 'nixdorf', 'nixdorf', 'perkin-elmer',\n",
       "       'perkin-elmer', 'perkin-elmer', 'prime', 'prime', 'prime', 'prime',\n",
       "       'prime', 'siemens', 'siemens', 'siemens', 'siemens', 'siemens',\n",
       "       'siemens', 'siemens', 'siemens', 'siemens', 'siemens', 'siemens',\n",
       "       'siemens', 'sperry', 'sperry', 'sperry', 'sperry', 'sperry',\n",
       "       'sperry', 'sperry', 'sperry', 'sperry', 'sperry', 'sperry',\n",
       "       'sperry', 'sperry', 'sratus', 'wang', 'wang'], dtype=object)"
      ]
     },
     "execution_count": 76,
     "metadata": {},
     "output_type": "execute_result"
    }
   ],
   "source": [
    "X[:,0]"
   ]
  },
  {
   "cell_type": "raw",
   "metadata": {},
   "source": [
    "CATEGORICAL VARIABLES CANNOT BE INCLUDED DIRECTLY IN THE MODEL \n",
    "WE ENCODE THE DUMMY VARIABLE FOR THE CATEGORICAL VARIABLE USING \"ONE-HOT-ENCODER\""
   ]
  },
  {
   "cell_type": "markdown",
   "metadata": {},
   "source": [
    "# DUMMY VARIABLE ENCODING"
   ]
  },
  {
   "cell_type": "code",
   "execution_count": 77,
   "metadata": {},
   "outputs": [
    {
     "name": "stderr",
     "output_type": "stream",
     "text": [
      "C:\\Users\\sai prakesh\\Anaconda3\\lib\\site-packages\\sklearn\\preprocessing\\_encoders.py:368: FutureWarning: The handling of integer data will change in version 0.22. Currently, the categories are determined based on the range [0, max(values)], while in the future they will be determined based on the unique values.\n",
      "If you want the future behaviour and silence this warning, you can specify \"categories='auto'\".\n",
      "In case you used a LabelEncoder before this OneHotEncoder to convert the categories to integers, then you can now use the OneHotEncoder directly.\n",
      "  warnings.warn(msg, FutureWarning)\n",
      "C:\\Users\\sai prakesh\\Anaconda3\\lib\\site-packages\\sklearn\\preprocessing\\_encoders.py:390: DeprecationWarning: The 'categorical_features' keyword is deprecated in version 0.20 and will be removed in 0.22. You can use the ColumnTransformer instead.\n",
      "  \"use the ColumnTransformer instead.\", DeprecationWarning)\n"
     ]
    }
   ],
   "source": [
    "from sklearn.preprocessing import OneHotEncoder,LabelEncoder\n",
    "enc=LabelEncoder()\n",
    "X[:,0]=enc.fit_transform(X[:,0])\n",
    "onenc=OneHotEncoder(categorical_features=[0])\n",
    "X=onenc.fit_transform(X).toarray()"
   ]
  },
  {
   "cell_type": "code",
   "execution_count": 78,
   "metadata": {},
   "outputs": [
    {
     "data": {
      "text/plain": [
       "array([[  1.,   0.,   0., ...,  16., 128., 198.],\n",
       "       [  0.,   1.,   0., ...,   8.,  32., 269.],\n",
       "       [  0.,   1.,   0., ...,   8.,  32., 220.],\n",
       "       ...,\n",
       "       [  0.,   0.,   0., ...,   2.,  14.,  52.],\n",
       "       [  0.,   0.,   0., ...,   0.,   0.,  67.],\n",
       "       [  0.,   0.,   0., ...,   0.,   0.,  45.]])"
      ]
     },
     "execution_count": 78,
     "metadata": {},
     "output_type": "execute_result"
    }
   ],
   "source": [
    "X"
   ]
  },
  {
   "cell_type": "markdown",
   "metadata": {},
   "source": [
    "# AVOIDNIG THE DUMMY VARIABLE TRAP"
   ]
  },
  {
   "cell_type": "code",
   "execution_count": 79,
   "metadata": {},
   "outputs": [],
   "source": [
    "X=X[:,1:]\n",
    "\n",
    "#IF WE HAVE N DUMMY VARIABLE THE WE HAVE TO INCLUDE N-1 VARIABLES ONLY IN THE MODEL "
   ]
  },
  {
   "cell_type": "markdown",
   "metadata": {},
   "source": [
    "# Splitting the dataset into the Training set and Test set"
   ]
  },
  {
   "cell_type": "code",
   "execution_count": 80,
   "metadata": {},
   "outputs": [],
   "source": [
    "# Splitting the dataset into the Training set and Test set\n",
    "from sklearn.model_selection import train_test_split\n",
    "X_train, X_test, y_train, y_test = train_test_split(X, y, test_size = 0.4, random_state = 42)"
   ]
  },
  {
   "cell_type": "markdown",
   "metadata": {},
   "source": [
    "## FEATURE SCALING"
   ]
  },
  {
   "cell_type": "code",
   "execution_count": 81,
   "metadata": {},
   "outputs": [],
   "source": [
    "from sklearn.preprocessing import StandardScaler\n",
    "sc_x=StandardScaler()\n",
    "\n",
    "X_train=sc_x.fit_transform(X_train)\n",
    "X_test=sc_x.transform(X_test)\n",
    "\n",
    "#THIS STEP CAN BE SKIPPED AS THE REGRESSOR IS CAPABLE OF DOING THE FEATUR SCALING BY ITSELF"
   ]
  },
  {
   "cell_type": "markdown",
   "metadata": {},
   "source": [
    "# Model creation"
   ]
  },
  {
   "cell_type": "code",
   "execution_count": 82,
   "metadata": {},
   "outputs": [
    {
     "data": {
      "text/plain": [
       "LinearRegression(copy_X=True, fit_intercept=True, n_jobs=None,\n",
       "         normalize=False)"
      ]
     },
     "execution_count": 82,
     "metadata": {},
     "output_type": "execute_result"
    }
   ],
   "source": [
    "from sklearn.linear_model import LinearRegression\n",
    "reg=LinearRegression()\n",
    "reg.fit(X_train,y_train)"
   ]
  },
  {
   "cell_type": "markdown",
   "metadata": {},
   "source": [
    "# Model predicton"
   ]
  },
  {
   "cell_type": "code",
   "execution_count": 83,
   "metadata": {},
   "outputs": [],
   "source": [
    "#test set results\n",
    "Y_pred=reg.predict(X_test)"
   ]
  },
  {
   "cell_type": "markdown",
   "metadata": {},
   "source": [
    "## ACCURACY OF THE MODEL"
   ]
  },
  {
   "cell_type": "code",
   "execution_count": 95,
   "metadata": {},
   "outputs": [],
   "source": [
    "accuracy1=reg.score(X_test,y_test)"
   ]
  },
  {
   "cell_type": "code",
   "execution_count": 97,
   "metadata": {},
   "outputs": [
    {
     "name": "stdout",
     "output_type": "stream",
     "text": [
      "92.02717404590773 %\n"
     ]
    }
   ],
   "source": [
    "print(accuracy1*100,'%')"
   ]
  },
  {
   "cell_type": "markdown",
   "metadata": {},
   "source": [
    "# WE HAVE CREATEDA MODEL WHICH CAN PREDICT THE ESTIMATED RELATIVE PERFOMANCE OF A COMPUTER WITH A 92.02% ACCURACY"
   ]
  }
 ],
 "metadata": {
  "kernelspec": {
   "display_name": "Python 3",
   "language": "python",
   "name": "python3"
  },
  "language_info": {
   "codemirror_mode": {
    "name": "ipython",
    "version": 3
   },
   "file_extension": ".py",
   "mimetype": "text/x-python",
   "name": "python",
   "nbconvert_exporter": "python",
   "pygments_lexer": "ipython3",
   "version": "3.7.1"
  }
 },
 "nbformat": 4,
 "nbformat_minor": 2
}
