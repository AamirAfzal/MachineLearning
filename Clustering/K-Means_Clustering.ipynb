{
 "cells": [
  {
   "cell_type": "markdown",
   "metadata": {},
   "source": [
    "# CLUSTER ANALYSIS OF STOCKS USING K-MEANS ALGORITHM\n",
    "\n",
    "DATASET SOURCE: \"https://resources.oreilly.com/examples/0636920128861/raw/master/Datasets/sample_stocks.csv\""
   ]
  },
  {
   "cell_type": "markdown",
   "metadata": {},
   "source": [
    "### IMPORTING THE LIBRARIES"
   ]
  },
  {
   "cell_type": "code",
   "execution_count": 1,
   "metadata": {},
   "outputs": [],
   "source": [
    "import pandas as pd\n",
    "import numpy as np\n",
    "import matplotlib.pyplot as plt"
   ]
  },
  {
   "cell_type": "markdown",
   "metadata": {},
   "source": [
    "### IMPORTING THE DATASET"
   ]
  },
  {
   "cell_type": "code",
   "execution_count": 2,
   "metadata": {},
   "outputs": [],
   "source": [
    "dataset = pd.read_csv('Sample_stocks.csv')"
   ]
  },
  {
   "cell_type": "markdown",
   "metadata": {},
   "source": [
    "### DATASET PRE-ANALYSIS"
   ]
  },
  {
   "cell_type": "code",
   "execution_count": 3,
   "metadata": {},
   "outputs": [
    {
     "data": {
      "text/html": [
       "<div>\n",
       "<style scoped>\n",
       "    .dataframe tbody tr th:only-of-type {\n",
       "        vertical-align: middle;\n",
       "    }\n",
       "\n",
       "    .dataframe tbody tr th {\n",
       "        vertical-align: top;\n",
       "    }\n",
       "\n",
       "    .dataframe thead th {\n",
       "        text-align: right;\n",
       "    }\n",
       "</style>\n",
       "<table border=\"1\" class=\"dataframe\">\n",
       "  <thead>\n",
       "    <tr style=\"text-align: right;\">\n",
       "      <th></th>\n",
       "      <th>returns</th>\n",
       "      <th>dividendyield</th>\n",
       "    </tr>\n",
       "  </thead>\n",
       "  <tbody>\n",
       "    <tr>\n",
       "      <th>0</th>\n",
       "      <td>-19</td>\n",
       "      <td>0.0</td>\n",
       "    </tr>\n",
       "    <tr>\n",
       "      <th>1</th>\n",
       "      <td>-13</td>\n",
       "      <td>0.0</td>\n",
       "    </tr>\n",
       "    <tr>\n",
       "      <th>2</th>\n",
       "      <td>-14</td>\n",
       "      <td>0.0</td>\n",
       "    </tr>\n",
       "    <tr>\n",
       "      <th>3</th>\n",
       "      <td>-9</td>\n",
       "      <td>0.0</td>\n",
       "    </tr>\n",
       "    <tr>\n",
       "      <th>4</th>\n",
       "      <td>-19</td>\n",
       "      <td>0.0</td>\n",
       "    </tr>\n",
       "  </tbody>\n",
       "</table>\n",
       "</div>"
      ],
      "text/plain": [
       "   returns  dividendyield\n",
       "0      -19            0.0\n",
       "1      -13            0.0\n",
       "2      -14            0.0\n",
       "3       -9            0.0\n",
       "4      -19            0.0"
      ]
     },
     "execution_count": 3,
     "metadata": {},
     "output_type": "execute_result"
    }
   ],
   "source": [
    "dataset.head()"
   ]
  },
  {
   "cell_type": "code",
   "execution_count": 4,
   "metadata": {},
   "outputs": [
    {
     "data": {
      "text/plain": [
       "returns          648\n",
       "dividendyield    648\n",
       "dtype: int64"
      ]
     },
     "execution_count": 4,
     "metadata": {},
     "output_type": "execute_result"
    }
   ],
   "source": [
    "dataset.count()"
   ]
  },
  {
   "cell_type": "code",
   "execution_count": 5,
   "metadata": {},
   "outputs": [
    {
     "data": {
      "text/plain": [
       "returns          40.0\n",
       "dividendyield     4.9\n",
       "dtype: float64"
      ]
     },
     "execution_count": 5,
     "metadata": {},
     "output_type": "execute_result"
    }
   ],
   "source": [
    "dataset.max()"
   ]
  },
  {
   "cell_type": "code",
   "execution_count": 6,
   "metadata": {},
   "outputs": [
    {
     "data": {
      "text/plain": [
       "returns         -20.0\n",
       "dividendyield     0.0\n",
       "dtype: float64"
      ]
     },
     "execution_count": 6,
     "metadata": {},
     "output_type": "execute_result"
    }
   ],
   "source": [
    "dataset.min()"
   ]
  },
  {
   "cell_type": "code",
   "execution_count": 7,
   "metadata": {},
   "outputs": [
    {
     "data": {
      "text/plain": [
       "(648, 2)"
      ]
     },
     "execution_count": 7,
     "metadata": {},
     "output_type": "execute_result"
    }
   ],
   "source": [
    "dataset.shape"
   ]
  },
  {
   "cell_type": "code",
   "execution_count": 8,
   "metadata": {},
   "outputs": [
    {
     "name": "stdout",
     "output_type": "stream",
     "text": [
      "returns --- int64\n",
      "dividendyield --- float64\n"
     ]
    }
   ],
   "source": [
    "for i in dataset.columns:\n",
    "    print(i,\"---\",dataset[i].dtype)"
   ]
  },
  {
   "cell_type": "code",
   "execution_count": 9,
   "metadata": {},
   "outputs": [
    {
     "data": {
      "text/plain": [
       "returns          0\n",
       "dividendyield    0\n",
       "dtype: int64"
      ]
     },
     "execution_count": 9,
     "metadata": {},
     "output_type": "execute_result"
    }
   ],
   "source": [
    "dataset.isna().sum()"
   ]
  },
  {
   "cell_type": "markdown",
   "metadata": {},
   "source": [
    "### DATASET ASSIGNED TO VARIABLE X"
   ]
  },
  {
   "cell_type": "code",
   "execution_count": 10,
   "metadata": {},
   "outputs": [],
   "source": [
    "X = dataset.iloc[:, [1,0]].values"
   ]
  },
  {
   "cell_type": "code",
   "execution_count": 11,
   "metadata": {},
   "outputs": [
    {
     "data": {
      "text/plain": [
       "array([[  0., -19.],\n",
       "       [  0., -13.],\n",
       "       [  0., -14.],\n",
       "       ...,\n",
       "       [  4.,   1.],\n",
       "       [  4.,  22.],\n",
       "       [  4., -16.]])"
      ]
     },
     "execution_count": 11,
     "metadata": {},
     "output_type": "execute_result"
    }
   ],
   "source": [
    "X"
   ]
  },
  {
   "cell_type": "markdown",
   "metadata": {},
   "source": [
    "### IMPORTING kmeans LIBRARY"
   ]
  },
  {
   "cell_type": "code",
   "execution_count": 12,
   "metadata": {},
   "outputs": [],
   "source": [
    "from sklearn.cluster import KMeans"
   ]
  },
  {
   "cell_type": "markdown",
   "metadata": {},
   "source": [
    "### USING ELBOW METHOD TO FIND THE OPTIMAL K NUMBER OF CLUSTERS"
   ]
  },
  {
   "cell_type": "code",
   "execution_count": 17,
   "metadata": {},
   "outputs": [],
   "source": [
    "#elbow method to find optimal number of clusters\n",
    "wcss = []\n",
    "for i in range(1, 8):\n",
    "    clust = KMeans(n_clusters = i, init='k-means++',n_init=10, max_iter=300,tol=0.0001,random_state=42)\n",
    "    clust.fit(X)\n",
    "    wcss.append(clust.inertia_)"
   ]
  },
  {
   "cell_type": "markdown",
   "metadata": {},
   "source": [
    "### ELBOW GRAPH "
   ]
  },
  {
   "cell_type": "code",
   "execution_count": 18,
   "metadata": {},
   "outputs": [
    {
     "data": {
      "image/png": "[encoded data removed]",
      "text/plain": [
       "<Figure size 432x288 with 1 Axes>"
      ]
     },
     "metadata": {
      "needs_background": "light"
     },
     "output_type": "display_data"
    }
   ],
   "source": [
    "plt.plot(range(1, 8), wcss)\n",
    "plt.plot(range(1, 8), wcss,'bo')\n",
    "plt.title('The Elbow Method')\n",
    "plt.xlabel('Number of clusters')\n",
    "plt.ylabel('WCSS SCORES')\n",
    "plt.show()"
   ]
  },
  {
   "cell_type": "markdown",
   "metadata": {},
   "source": [
    " ## Appropriate number of clusters have been identified (k=3)\n",
    "    When we graph the plot, we see that the graph form an elbow after 3 clusters,\n",
    "    implying that addition of more clusters do not explain much more of the variance in \n",
    "    our relevant variable"
   ]
  },
  {
   "cell_type": "markdown",
   "metadata": {},
   "source": [
    "### MODEL CREATION AND TRAINING"
   ]
  },
  {
   "cell_type": "code",
   "execution_count": 19,
   "metadata": {},
   "outputs": [],
   "source": [
    "# Fitting K-Means to the dataset\n",
    "clust2 = KMeans(n_clusters = 3, init = 'k-means++', random_state = 42)\n",
    "y_clust2 = clust2.fit_predict(X)"
   ]
  },
  {
   "cell_type": "markdown",
   "metadata": {},
   "source": [
    "### VISUALISING THE K-MEANS CLUSTERING MODEL"
   ]
  },
  {
   "cell_type": "code",
   "execution_count": 20,
   "metadata": {
    "scrolled": true
   },
   "outputs": [
    {
     "data": {
      "image/png": "[encoded data removed]",
      "text/plain": [
       "<Figure size 432x288 with 1 Axes>"
      ]
     },
     "metadata": {
      "needs_background": "light"
     },
     "output_type": "display_data"
    }
   ],
   "source": [
    "# Visualising the clusters\n",
    "plt.scatter(X[y_clust2 == 0, 0], X[y_clust2 == 0, 1], s = 10, c = 'red', label = 'Cluster 1')\n",
    "plt.scatter(X[y_clust2 == 1, 0], X[y_clust2 == 1, 1], s = 10, c = 'green', label = 'Cluster 2')\n",
    "plt.scatter(X[y_clust2 == 2, 0], X[y_clust2 == 2, 1], s = 10, c = 'magenta', label = 'Cluster 3')\n",
    "plt.xlim([-2,6])\n",
    "plt.ylim([-30,60])\n",
    "plt.title('Sample Stocks clusters')\n",
    "plt.xlabel(\"Dividend's Yield\")\n",
    "plt.ylabel('Returns')\n",
    "plt.legend()\n",
    "plt.show()"
   ]
  },
  {
   "cell_type": "markdown",
   "metadata": {},
   "source": [
    "  ### Definition of 'Dividend Yield':\n",
    "        Dividend yield is the financial ratio that measures the quantum of cash dividends paid out to shareholders relative to the market value per share. It is computed by dividing the dividend per share by the market price per share and multiplying the result by 100. A company with a high dividend yield pays a substantial share of its profits in the form of dividends. Dividend yield of a company is always compared with the average of the industry to which the company \n",
    "        Suppose a company with a stock price of Rs 100 declares a dividend of Rs 10 per share. In that case, the dividend yield of the stock will be 10/100*100 = 10%. \n",
    "        \n",
    "        ***High dividend yield stocks are good investment options during volatile times, as these companies offer good payoff options.\n",
    "        \n",
    "  ### Definition of 'Return':\n",
    "      A return, also known as a financial return, in its simplest terms, is the money made or lost on an investment. A return can be expressed nominally as the change in dollar value of an investment over time. A return can be expressed as a percentage derived from the ratio of profit to investment. \n",
    "      \n",
    "      Positive Return:\n",
    "         A positive return is the profit, or money made, on an investment or venture.\n",
    "         \n",
    "      Negative Return:\n",
    "         A negative return is the loss, or money lost, on an investment or venture.\n"
   ]
  },
  {
   "cell_type": "markdown",
   "metadata": {},
   "source": [
    "### FINAL STUDY ON CLUSTERS"
   ]
  },
  {
   "cell_type": "code",
   "execution_count": 21,
   "metadata": {},
   "outputs": [
    {
     "data": {
      "image/png": "[encoded data removed]",
      "text/plain": [
       "<Figure size 432x288 with 1 Axes>"
      ]
     },
     "metadata": {
      "needs_background": "light"
     },
     "output_type": "display_data"
    }
   ],
   "source": [
    "# Visualising the clusters based on study\n",
    "plt.scatter(X[y_clust2 == 0, 0], X[y_clust2 == 0, 1], s = 10, c = 'red', label = 'worst stocks')\n",
    "plt.scatter(X[y_clust2 == 1, 0], X[y_clust2 == 1, 1], s = 10, c = 'green', label = 'best stocks')\n",
    "plt.scatter(X[y_clust2 == 2, 0], X[y_clust2 == 2, 1], s = 10, c = 'magenta', label = 'good stocks')\n",
    "plt.xlim([-2,6])\n",
    "plt.ylim([-30,60])\n",
    "plt.title('Sample Stocks clusters')\n",
    "plt.xlabel(\"Dividend's Yield\")\n",
    "plt.ylabel('Returns')\n",
    "plt.legend()\n",
    "plt.show()"
   ]
  }
 ],
 "metadata": {
  "kernelspec": {
   "display_name": "Python 3",
   "language": "python",
   "name": "python3"
  },
  "language_info": {
   "codemirror_mode": {
    "name": "ipython",
    "version": 3
   },
   "file_extension": ".py",
   "mimetype": "text/x-python",
   "name": "python",
   "nbconvert_exporter": "python",
   "pygments_lexer": "ipython3",
   "version": "3.7.1"
  }
 },
 "nbformat": 4,
 "nbformat_minor": 2
}
